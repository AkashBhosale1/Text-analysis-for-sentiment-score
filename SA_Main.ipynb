{
  "nbformat": 4,
  "nbformat_minor": 0,
  "metadata": {
    "colab": {
      "provenance": [],
      "toc_visible": true
    },
    "kernelspec": {
      "name": "python3",
      "display_name": "Python 3"
    },
    "language_info": {
      "name": "python"
    }
  },
  "cells": [
    {
      "cell_type": "markdown",
      "source": [
        "####################################################################\n",
        "\n",
        "Sentiment analysis on Twitter Dataset\n",
        "\n",
        "####################################################################"
      ],
      "metadata": {
        "id": "rhZ0essrGNRf"
      }
    },
    {
      "cell_type": "code",
      "source": [
        "pip install snscrape"
      ],
      "metadata": {
        "colab": {
          "base_uri": "https://localhost:8080/"
        },
        "id": "PQyNu1Nak99d",
        "outputId": "36475847-b9d0-42b0-f90d-67d6b6b95d91"
      },
      "execution_count": null,
      "outputs": [
        {
          "output_type": "stream",
          "name": "stdout",
          "text": [
            "Looking in indexes: https://pypi.org/simple, https://us-python.pkg.dev/colab-wheels/public/simple/\n",
            "Collecting snscrape\n",
            "  Downloading snscrape-0.4.3.20220106-py3-none-any.whl (59 kB)\n",
            "\u001b[K     |████████████████████████████████| 59 kB 3.2 MB/s \n",
            "\u001b[?25hRequirement already satisfied: lxml in /usr/local/lib/python3.8/dist-packages (from snscrape) (4.9.2)\n",
            "Requirement already satisfied: requests[socks] in /usr/local/lib/python3.8/dist-packages (from snscrape) (2.23.0)\n",
            "Requirement already satisfied: beautifulsoup4 in /usr/local/lib/python3.8/dist-packages (from snscrape) (4.6.3)\n",
            "Requirement already satisfied: pytz in /usr/local/lib/python3.8/dist-packages (from snscrape) (2022.6)\n",
            "Requirement already satisfied: filelock in /usr/local/lib/python3.8/dist-packages (from snscrape) (3.8.2)\n",
            "Requirement already satisfied: idna<3,>=2.5 in /usr/local/lib/python3.8/dist-packages (from requests[socks]->snscrape) (2.10)\n",
            "Requirement already satisfied: urllib3!=1.25.0,!=1.25.1,<1.26,>=1.21.1 in /usr/local/lib/python3.8/dist-packages (from requests[socks]->snscrape) (1.24.3)\n",
            "Requirement already satisfied: certifi>=2017.4.17 in /usr/local/lib/python3.8/dist-packages (from requests[socks]->snscrape) (2022.12.7)\n",
            "Requirement already satisfied: chardet<4,>=3.0.2 in /usr/local/lib/python3.8/dist-packages (from requests[socks]->snscrape) (3.0.4)\n",
            "Requirement already satisfied: PySocks!=1.5.7,>=1.5.6 in /usr/local/lib/python3.8/dist-packages (from requests[socks]->snscrape) (1.7.1)\n",
            "Installing collected packages: snscrape\n",
            "Successfully installed snscrape-0.4.3.20220106\n"
          ]
        }
      ]
    },
    {
      "cell_type": "code",
      "source": [
        "pip install pandas"
      ],
      "metadata": {
        "id": "KaI1QKWDGKdU",
        "colab": {
          "base_uri": "https://localhost:8080/"
        },
        "outputId": "0bd10a3f-b4e6-4860-d1a8-73fc55a5e068"
      },
      "execution_count": null,
      "outputs": [
        {
          "output_type": "stream",
          "name": "stdout",
          "text": [
            "Looking in indexes: https://pypi.org/simple, https://us-python.pkg.dev/colab-wheels/public/simple/\n",
            "Requirement already satisfied: pandas in /usr/local/lib/python3.8/dist-packages (1.3.5)\n",
            "Requirement already satisfied: pytz>=2017.3 in /usr/local/lib/python3.8/dist-packages (from pandas) (2022.6)\n",
            "Requirement already satisfied: numpy>=1.17.3 in /usr/local/lib/python3.8/dist-packages (from pandas) (1.21.6)\n",
            "Requirement already satisfied: python-dateutil>=2.7.3 in /usr/local/lib/python3.8/dist-packages (from pandas) (2.8.2)\n",
            "Requirement already satisfied: six>=1.5 in /usr/local/lib/python3.8/dist-packages (from python-dateutil>=2.7.3->pandas) (1.15.0)\n"
          ]
        }
      ]
    },
    {
      "cell_type": "code",
      "source": [
        "#using sncrepar \n",
        "\n",
        "import snscrape.modules.twitter as sntwitter\n",
        "import pandas as pd\n",
        "\n",
        "query =\"Formula 1 racing \"\n",
        "tweets = []\n",
        "limit =2000\n",
        "\n",
        "\n",
        "for tweet in sntwitter.TwitterSearchScraper(query).get_items():\n",
        "    \n",
        "    # print(vars(tweet))\n",
        "    # break\n",
        "    if len(tweets) == limit:\n",
        "        break\n",
        "        \n",
        "    else:\n",
        "        tweets.append([tweet.date, tweet.username, tweet.content])\n",
        "        \n",
        "df = pd.DataFrame(tweets, columns=['Date', 'User', 'text'])\n",
        "print(df)\n",
        "\n",
        "# to save to csv\n",
        "df.to_csv('F1tweets2000.csv')"
      ],
      "metadata": {
        "colab": {
          "base_uri": "https://localhost:8080/"
        },
        "id": "WU2519LhHBnh",
        "outputId": "58a17af2-930c-4173-87cb-fb20cfa98dec"
      },
      "execution_count": null,
      "outputs": [
        {
          "output_type": "stream",
          "name": "stderr",
          "text": [
            "<ipython-input-10-67a6190f302d>:19: FutureWarning: username is deprecated, use user.username instead\n",
            "  tweets.append([tweet.date, tweet.username, tweet.content])\n"
          ]
        },
        {
          "output_type": "stream",
          "name": "stdout",
          "text": [
            "                          Date             User  \\\n",
            "0    2022-12-31 03:01:05+00:00  SpeedGRIDRacing   \n",
            "1    2022-12-31 02:31:48+00:00       Garrett51D   \n",
            "2    2022-12-30 23:14:48+00:00     Mvalente2021   \n",
            "3    2022-12-30 22:52:55+00:00       GPAmericas   \n",
            "4    2022-12-30 22:20:38+00:00         Tertulis   \n",
            "...                        ...              ...   \n",
            "1995 2022-12-01 00:25:54+00:00        jorgardur   \n",
            "1996 2022-11-30 23:25:04+00:00       F1LasVegas   \n",
            "1997 2022-11-30 22:37:54+00:00   Vax_Merstappen   \n",
            "1998 2022-11-30 22:31:48+00:00      zoelondondj   \n",
            "1999 2022-11-30 22:03:59+00:00   SexyBrigadeiro   \n",
            "\n",
            "                                                   text  \n",
            "0     Formula 1 🏎  GRID Racing 🏁: 😱 Acaba 2022, ante...  \n",
            "1     The Formula 1 Activity Book For Kids Aged 6-14...  \n",
            "2     @akheriaty If formula 1 racing can't be sponso...  \n",
            "3     @brettmayes @BruceMartin_500 @F1 @COTA @IndyCa...  \n",
            "4     Regulasi 2023, Desain Red Bull Racing RB18 jad...  \n",
            "...                                                 ...  \n",
            "1995  Today was announced that @LoganSargeant picked...  \n",
            "1996  Lock it in! @logansargeant has chosen No. 2 as...  \n",
            "1997  @F1 @danielricciardo He had 3 of the worst yea...  \n",
            "1998  @lucydeakinmusic @F1 @F1Arcade suddenly terrif...  \n",
            "1999  LIVE, NOW, at:\\nhttps://t.co/naF5iNFMPM\\nLARA ...  \n",
            "\n",
            "[2000 rows x 3 columns]\n"
          ]
        }
      ]
    },
    {
      "cell_type": "code",
      "source": [
        "\n",
        "# download dataset Using twitter API\n",
        "import requests\n",
        "import csv\n",
        "\n",
        "# set up the Twitter API client\n",
        "api_key = \"vdEXaZXVQ3ciVJCEN7zYidHWj\"\n",
        "api_key_secret = \"eQbxFp8mHokTjGhBT6A6NMiS6ZbrrnvKkJ3ItgqFNoxg1arExr\"\n",
        "bearer_token = \"AAAAAAAAAAAAAAAAAAAAAOAWkwEAAAAA%2BKuRMbFT8Isr669QzVIO2h8CUAM%3DsR3kxbxdkHw2yYIWDRXJK4507A95tX4uJpQA0vdxCHfDO0Cv27\"\n",
        "\n",
        "#Topic input from user\n",
        "topic = input(\"Enter the topic of the tweets: \")\n",
        "# search for tweets containing the keyword \"dataset\"\n",
        "url = f\"https://api.twitter.com/2/tweets/search/recent?query=lang:en%20{topic}\"\n",
        "headers = {\n",
        "    \"Authorization\": f\"Bearer {bearer_token}\",\n",
        "    \"User-Agent\": \"MyApp/1.0\"\n",
        "}\n",
        "params = {\n",
        "    \"max_results\": \"100\" # not getting more than 100------------------\n",
        "}\n",
        "response = requests.get(url, headers=headers, params=params)\n",
        "\n",
        "# create a CSV file for writing\n",
        "csv_file = open(\"tweet_dataset2.csv\", \"w\", newline=\"\")\n",
        "writer = csv.writer(csv_file)\n",
        "\n",
        "# write the header row\n",
        "writer.writerow([ \"text\"])# enter fiels that you want\n",
        "\n",
        "# write the tweets to the CSV file\n",
        "for tweet in response.json()[\"data\"]:\n",
        "    writer.writerow([ tweet[\"text\"]])\n",
        "\n",
        "# close the CSV file\n",
        "csv_file.close()\n",
        "\n",
        "print(\"Done!\")"
      ],
      "metadata": {
        "colab": {
          "base_uri": "https://localhost:8080/"
        },
        "id": "l-Rkf2yzHC6A",
        "outputId": "82356d0f-227e-469d-866c-7525235aae9e"
      },
      "execution_count": null,
      "outputs": [
        {
          "output_type": "stream",
          "name": "stdout",
          "text": [
            "Enter the topic of the tweets: Rishabh pant\n",
            "Done!\n"
          ]
        }
      ]
    },
    {
      "cell_type": "code",
      "source": [
        "#preprocess data and save it into file\n",
        "\n",
        "import pandas as pd\n",
        "import re\n",
        "import csv\n",
        "\n",
        "# get the dataset file name from the user\n",
        "file_name = input(\"Enter the dataset file name: \")\n",
        "\n",
        "# read the dataset file into a Pandas dataframe\n",
        "df = pd.read_csv(file_name)\n",
        "\n",
        "# create a new column for preprocessed text\n",
        "df['preprocessed_text'] = df['text'].apply(lambda x: x)\n",
        "\n",
        "# preprocess the text\n",
        "for index, row in df.iterrows():\n",
        "    # remove URLs\n",
        "    row['preprocessed_text'] = re.sub(r\"http\\S+\", \"\", row['preprocessed_text'])\n",
        "    # remove Twitter handles\n",
        "    row['preprocessed_text'] = re.sub(r\"@\\S+\", \"\", row['preprocessed_text'])\n",
        "    # remove hashtags\n",
        "    row['preprocessed_text'] = re.sub(r\"#\\S+\", \"\", row['preprocessed_text'])\n",
        "    # remove special characters and digits\n",
        "    row['preprocessed_text'] = re.sub(r\"[^a-zA-Z]\", \" \", row['preprocessed_text'])\n",
        "    # make all text lowercase\n",
        "    row['preprocessed_text'] = row['preprocessed_text'].lower()\n",
        "\n",
        "# create a CSV file for writing\n",
        "csv_file = open(\"preprocessed_text1.csv\", \"w\", newline=\"\")\n",
        "writer = csv.writer(csv_file)\n",
        "\n",
        "# write the header row\n",
        "writer.writerow([\"preprocessed_text\"])\n",
        "\n",
        "# write the preprocessed text to the CSV file\n",
        "for index, row in df.iterrows():\n",
        "    writer.writerow([row['preprocessed_text']])\n",
        "\n",
        "# close the CSV file\n",
        "csv_file.close()\n",
        "\n",
        "print(\"Done!\")"
      ],
      "metadata": {
        "colab": {
          "base_uri": "https://localhost:8080/"
        },
        "id": "64zkfbvsHCsZ",
        "outputId": "7cc326c3-4417-456b-890b-d4e6ee54fdae"
      },
      "execution_count": null,
      "outputs": [
        {
          "output_type": "stream",
          "name": "stdout",
          "text": [
            "Enter the dataset file name: /content/tweet_dataset2.csv\n",
            "Done!\n"
          ]
        }
      ]
    },
    {
      "cell_type": "code",
      "source": [
        "import nltk\n",
        " "
      ],
      "metadata": {
        "id": "YG5Q8giIHCeC"
      },
      "execution_count": null,
      "outputs": []
    },
    {
      "cell_type": "code",
      "source": [
        " nltk.download('vader_lexicon')"
      ],
      "metadata": {
        "colab": {
          "base_uri": "https://localhost:8080/"
        },
        "id": "ncheakH0HCLZ",
        "outputId": "9304126a-995b-4285-e12c-a8c4acabcb08"
      },
      "execution_count": null,
      "outputs": [
        {
          "output_type": "stream",
          "name": "stderr",
          "text": [
            "[nltk_data] Downloading package vader_lexicon to /root/nltk_data...\n",
            "[nltk_data]   Package vader_lexicon is already up-to-date!\n"
          ]
        },
        {
          "output_type": "execute_result",
          "data": {
            "text/plain": [
              "True"
            ]
          },
          "metadata": {},
          "execution_count": 14
        }
      ]
    },
    {
      "cell_type": "code",
      "source": [
        "#create and download  score file\n",
        "\n",
        "import pandas as pd\n",
        "import re\n",
        "import nltk\n",
        "from nltk.sentiment.vader import SentimentIntensityAnalyzer\n",
        "import csv\n",
        "import urllib.request\n",
        "\n",
        "# prompt user for file path\n",
        "file_path = input(\"Enter file path for dataset: \")\n",
        "# read the dataset file into a Pandas dataframe\n",
        "df = pd.read_csv(file_path)\n",
        "\n",
        "# create a new column for preprocessed text\n",
        "df['preprocessed_text'] = df['preprocessed_text'].apply(lambda x: x)\n",
        "\n",
        "# preprocess the text\n",
        "for index, row in df.iterrows():\n",
        "    # remove URLs\n",
        "    row['preprocessed_text'] = re.sub(r\"http\\S+\", \"\", row['preprocessed_text'])#(Pattern ,replacement ,string)\n",
        "    # remove Twitter handles\n",
        "    row['preprocessed_text'] = re.sub(r\"@\\S+\", \"\", row['preprocessed_text'])\n",
        "    # remove hashtags\n",
        "    row['preprocessed_text'] = re.sub(r\"#\\S+\", \"\", row['preprocessed_text'])\n",
        "    # remove special characters and digits\n",
        "    row['preprocessed_text'] = re.sub(r\"[^a-zA-Z]\", \" \", row['preprocessed_text'])\n",
        "    # make all text lowercase\n",
        "    row['preprocessed_text'] = row['preprocessed_text'].lower()\n",
        "\n",
        "# create a new column for sentiment scores\n",
        "df['sentiment_score'] = df['preprocessed_text'].apply(lambda x: x)\n",
        "\n",
        "# initialize the SentimentIntensityAnalyzer\n",
        "sid = SentimentIntensityAnalyzer()\n",
        "\n",
        "# compute the sentiment scores\n",
        "for index, row in df.iterrows():\n",
        "    scores = sid.polarity_scores(row['preprocessed_text'])\n",
        "    row['sentiment_score'] = scores['compound']\n",
        "\n",
        "# create a CSV file for writing\n",
        "csv_file = open(\"sentiment_scores1.csv\", \"w\", newline=\"\")\n",
        "writer = csv.writer(csv_file)\n",
        "\n",
        "# write the header row\n",
        "writer.writerow([\"sentiment\", \"score\"])\n",
        "\n",
        "# write the sentiment scores to the CSV file\n",
        "for index, row in df.iterrows():\n",
        "    if row['sentiment_score'] >0:\n",
        "        writer.writerow([\"positive\", row['sentiment_score']])\n",
        "    elif row['sentiment_score'] == 0:\n",
        "        writer.writerow([\"neutral\", row['sentiment_score']])\n",
        "    else:\n",
        "        writer.writerow([\"negative\", row['sentiment_score']])\n",
        "\n",
        "# close the CSV file\n",
        "csv_file.close()\n",
        "\n",
        "# download the CSV file\n",
        "#urllib.request.urlretrieve(\"sentiment_scores.csv\", \"sentiment_scores.csv\")\n",
        "\n",
        "print(\"Done!\")\n"
      ],
      "metadata": {
        "colab": {
          "base_uri": "https://localhost:8080/"
        },
        "id": "xD7AgM8_HBYZ",
        "outputId": "906ed7a5-fbc7-44f7-823e-5c0ae09bdb8e"
      },
      "execution_count": null,
      "outputs": [
        {
          "output_type": "stream",
          "name": "stdout",
          "text": [
            "Enter file path for dataset: /content/preprocessed_text1.csv\n",
            "Done!\n"
          ]
        }
      ]
    },
    {
      "cell_type": "code",
      "source": [
        "#successfully plot code\n",
        "\n",
        "import matplotlib.pyplot as plt\n",
        "import nltk\n",
        "nltk.download('vader_lexicon')\n",
        "from nltk.sentiment.vader import SentimentIntensityAnalyzer\n",
        "\n",
        "# create the sentiment analyzer\n",
        "sia = SentimentIntensityAnalyzer()\n",
        "\n",
        "# read the preprocessed tweet dataset from the CSV file\n",
        "tweet_dataset = []\n",
        "with open(\"sentiment_scores1.csv\", \"r\") as csv_file:\n",
        "    reader = csv.reader(csv_file)\n",
        "    next(reader)  # skip the header row\n",
        "    for row in reader:\n",
        "        tweet_dataset.append(row[0])\n",
        "\n",
        "# analyze the sentiment of each tweet\n",
        "scores = []\n",
        "for tweet in tweet_dataset:\n",
        "    score = sia.polarity_scores(tweet)\n",
        "    if score[\"compound\"] > 0.5:\n",
        "        scores.append(\"positive\")\n",
        "    elif score[\"compound\"] < -0.5:\n",
        "        scores.append(\"negative\")\n",
        "    else:\n",
        "        scores.append(\"neutral\")\n",
        "\n",
        "# count the number of tweets in each sentiment category\n",
        "positive_count = sum(1 for score in scores if score == \"positive\")\n",
        "neutral_count = sum(1 for score in scores if score == \"neutral\")\n",
        "negative_count = sum(1 for score in scores if score == \"negative\")\n",
        "\n",
        "# plot the bar graph\n",
        "x = [\"positive\", \"neutral\", \"negative\"]\n",
        "y = [positive_count, neutral_count, negative_count]\n",
        "plt.bar(x, y)\n",
        "plt.title(\"Sentiment of Tweets\")\n",
        "plt.xlabel(\"Sentiment\")\n",
        "plt.ylabel(\"Number of Tweets\")\n",
        "plt.show()\n",
        "\n",
        "# plot the pie chart\n",
        "labels = [\"positive\", \"neutral\", \"negative\"]\n",
        "sizes = [positive_count, neutral_count, negative_count]\n",
        "explode = [0.1, 0, 0]\n",
        "plt.pie(sizes, explode=explode, labels=labels, autopct=\"%1.1f%%\", shadow=True)\n",
        "plt.title(\"Sentiment of Tweets\")\n",
        "plt.show()\n",
        "\n",
        "# plot the scatter plot\n",
        "x = range(len(tweet_dataset))\n",
        "y = scores\n",
        "plt.scatter(x, y)\n",
        "plt.title(\"Sentiment of Tweets\")\n",
        "plt.xlabel(\"Tweet Number\")\n",
        "plt.ylabel(\"Sentiment\")\n",
        "plt.show()\n",
        "\n",
        "\n",
        "\n"
      ],
      "metadata": {
        "colab": {
          "base_uri": "https://localhost:8080/",
          "height": 855
        },
        "id": "jFYwUpwvHnsa",
        "outputId": "3a7d0b0b-86a7-4923-a09d-ccb06b996e68"
      },
      "execution_count": null,
      "outputs": [
        {
          "output_type": "stream",
          "name": "stderr",
          "text": [
            "[nltk_data] Downloading package vader_lexicon to /root/nltk_data...\n",
            "[nltk_data]   Package vader_lexicon is already up-to-date!\n"
          ]
        },
        {
          "output_type": "display_data",
          "data": {
            "text/plain": [
              "<Figure size 432x288 with 1 Axes>"
            ],
            "image/png": "[encoded data removed]"
          },
          "metadata": {
            "needs_background": "light"
          }
        },
        {
          "output_type": "display_data",
          "data": {
            "text/plain": [
              "<Figure size 432x288 with 1 Axes>"
            ],
            "image/png": "[encoded data removed]"
          },
          "metadata": {}
        },
        {
          "output_type": "display_data",
          "data": {
            "text/plain": [
              "<Figure size 432x288 with 1 Axes>"
            ],
            "image/png": "[encoded data removed]"
          },
          "metadata": {
            "needs_background": "light"
          }
        }
      ]
    },
    {
      "cell_type": "code",
      "source": [
        "#Heat Map\n",
        "\n",
        "import matplotlib.pyplot as plt\n",
        "import nltk\n",
        "nltk.download('vader_lexicon')\n",
        "from nltk.sentiment.vader import SentimentIntensityAnalyzer\n",
        "import seaborn as sns\n",
        "\n",
        "# create the sentiment analyzer\n",
        "sia = SentimentIntensityAnalyzer()\n",
        "\n",
        "# read the preprocessed tweet dataset from the CSV file\n",
        "tweet_dataset = []\n",
        "with open(\"sentiment_scores1.csv\", \"r\") as csv_file:\n",
        "    reader = csv.reader(csv_file)\n",
        "    next(reader)  # skip the header row\n",
        "    for row in reader:\n",
        "        tweet_dataset.append(row[0])\n",
        "\n",
        "# analyze the sentiment of each tweet\n",
        "scores = []\n",
        "for tweet in tweet_dataset:\n",
        "    score = sia.polarity_scores(tweet)\n",
        "    if score[\"compound\"] > 0.5:\n",
        "        scores.append(1)  # positive\n",
        "    elif score[\"compound\"] < -0.5:\n",
        "        scores.append(-1)  # negative\n",
        "    else:\n",
        "        scores.append(0.1)  # neutral\n",
        "\n",
        "# create the heat map data\n",
        "data = {\"tweet\": tweet_dataset, \"sentiment\": scores}\n",
        "df = pd.DataFrame(data)\n",
        "\n",
        "# plot the heat map\n",
        "sns.heatmap(df.corr(), annot=True)\n",
        "plt.title(\"Sentiment of Tweets\")\n",
        "plt.show()\n"
      ],
      "metadata": {
        "colab": {
          "base_uri": "https://localhost:8080/",
          "height": 316
        },
        "id": "5nTwzqIjHng5",
        "outputId": "e4c874d8-a700-447f-ee0f-f4023c5d7a1e"
      },
      "execution_count": null,
      "outputs": [
        {
          "output_type": "stream",
          "name": "stderr",
          "text": [
            "[nltk_data] Downloading package vader_lexicon to /root/nltk_data...\n",
            "[nltk_data]   Package vader_lexicon is already up-to-date!\n"
          ]
        },
        {
          "output_type": "display_data",
          "data": {
            "text/plain": [
              "<Figure size 432x288 with 2 Axes>"
            ],
            "image/png": "[encoded data removed]"
          },
          "metadata": {
            "needs_background": "light"
          }
        }
      ]
    },
    {
      "cell_type": "code",
      "source": [
        "#Box Plot\n",
        "\n",
        "import matplotlib.pyplot as plt\n",
        "import nltk\n",
        "nltk.download('vader_lexicon')\n",
        "from nltk.sentiment.vader import SentimentIntensityAnalyzer\n",
        "\n",
        "# create the sentiment analyzer\n",
        "sia = SentimentIntensityAnalyzer()\n",
        "\n",
        "# read the preprocessed tweet dataset from the CSV file\n",
        "tweet_dataset = []\n",
        "with open(\"sentiment_scores1.csv\", \"r\") as csv_file:\n",
        "    reader = csv.reader(csv_file)\n",
        "    next(reader)  # skip the header row\n",
        "    for row in reader:\n",
        "        tweet_dataset.append(row[0])\n",
        "\n",
        "# analyze the sentiment of each tweet\n",
        "scores = []\n",
        "for tweet in tweet_dataset:\n",
        "    score = sia.polarity_scores(tweet)\n",
        "    if score[\"compound\"] > 0.5:\n",
        "        scores.append(1)  # positive\n",
        "    elif score[\"compound\"] < -0.5:\n",
        "        scores.append(-1)  # negative\n",
        "    else:\n",
        "        scores.append(0.1)  # neutral\n",
        "\n",
        "# plot the box plot\n",
        "plt.boxplot(scores)\n",
        "plt.title(\"Sentiment of Tweets\")\n",
        "plt.ylabel(\"Sentiment\")\n",
        "plt.show()"
      ],
      "metadata": {
        "colab": {
          "base_uri": "https://localhost:8080/",
          "height": 316
        },
        "id": "4SvhVrMiHnU8",
        "outputId": "3ebfb164-0e68-4f93-a75a-5fe2b920175f"
      },
      "execution_count": null,
      "outputs": [
        {
          "output_type": "stream",
          "name": "stderr",
          "text": [
            "[nltk_data] Downloading package vader_lexicon to /root/nltk_data...\n",
            "[nltk_data]   Package vader_lexicon is already up-to-date!\n"
          ]
        },
        {
          "output_type": "display_data",
          "data": {
            "text/plain": [
              "<Figure size 432x288 with 1 Axes>"
            ],
            "image/png": "[encoded data removed]"
          },
          "metadata": {
            "needs_background": "light"
          }
        }
      ]
    },
    {
      "cell_type": "code",
      "source": [
        "pip install squarify"
      ],
      "metadata": {
        "colab": {
          "base_uri": "https://localhost:8080/"
        },
        "id": "7X78qSowHnHp",
        "outputId": "d6719d71-d4e1-47cc-f949-95a19c69870d"
      },
      "execution_count": null,
      "outputs": [
        {
          "output_type": "stream",
          "name": "stdout",
          "text": [
            "Looking in indexes: https://pypi.org/simple, https://us-python.pkg.dev/colab-wheels/public/simple/\n",
            "Collecting squarify\n",
            "  Downloading squarify-0.4.3-py3-none-any.whl (4.3 kB)\n",
            "Installing collected packages: squarify\n",
            "Successfully installed squarify-0.4.3\n"
          ]
        }
      ]
    },
    {
      "cell_type": "code",
      "source": [
        "import squarify"
      ],
      "metadata": {
        "id": "zkgh5n9zH7uI"
      },
      "execution_count": null,
      "outputs": []
    },
    {
      "cell_type": "code",
      "source": [
        "#Tree Map\n",
        "\n",
        "import matplotlib.pyplot as plt\n",
        "import nltk\n",
        "nltk.download('vader_lexicon')\n",
        "from nltk.sentiment.vader import SentimentIntensityAnalyzer\n",
        "import squarify\n",
        "\n",
        "# create the sentiment analyzer\n",
        "sia = SentimentIntensityAnalyzer()\n",
        "\n",
        "# read the preprocessed tweet dataset from the CSV file\n",
        "tweet_dataset = []\n",
        "with open(\"sentiment_scores1.csv\", \"r\") as csv_file:\n",
        "    reader = csv.reader(csv_file)\n",
        "    next(reader)  # skip the header row\n",
        "    for row in reader:\n",
        "        tweet_dataset.append(row[1])\n",
        "\n",
        "# analyze the sentiment of each tweet\n",
        "scores = []\n",
        "for tweet in tweet_dataset:\n",
        "    score = sia.polarity_scores(tweet)\n",
        "    if score[\"compound\"] > 0.5:\n",
        "        scores.append(1)  # positive\n",
        "    elif score[\"compound\"] < -0.5:\n",
        "        scores.append(-1)  # negative\n",
        "    else:\n",
        "        scores.append(0.1)  # neutral\n",
        "\n",
        "# plot the tree map\n",
        "\n",
        "squarify.plot(sizes=scores, label=tweet_dataset)\n",
        "plt.title(\"Sentiment of Tweets\")\n",
        "plt.show()\n"
      ],
      "metadata": {
        "colab": {
          "base_uri": "https://localhost:8080/",
          "height": 316
        },
        "id": "LTdGeIeAH7fS",
        "outputId": "32a98337-973d-42e8-d0d5-c21236903cdc"
      },
      "execution_count": null,
      "outputs": [
        {
          "output_type": "stream",
          "name": "stderr",
          "text": [
            "[nltk_data] Downloading package vader_lexicon to /root/nltk_data...\n",
            "[nltk_data]   Package vader_lexicon is already up-to-date!\n"
          ]
        },
        {
          "output_type": "display_data",
          "data": {
            "text/plain": [
              "<Figure size 432x288 with 1 Axes>"
            ],
            "image/png": "[encoded data removed]"
          },
          "metadata": {
            "needs_background": "light"
          }
        }
      ]
    },
    {
      "cell_type": "code",
      "source": [
        "#Histogram\n",
        "\n",
        "import matplotlib.pyplot as plt\n",
        "import nltk\n",
        "nltk.download('vader_lexicon')\n",
        "from nltk.sentiment.vader import SentimentIntensityAnalyzer\n",
        "\n",
        "# create the sentiment analyzer\n",
        "sia = SentimentIntensityAnalyzer()\n",
        "\n",
        "# read the preprocessed tweet dataset from the CSV file\n",
        "tweet_dataset = []\n",
        "with open(\"sentiment_scores1.csv\", \"r\") as csv_file:\n",
        "    reader = csv.reader(csv_file)\n",
        "    next(reader)  # skip the header row\n",
        "    for row in reader:\n",
        "        tweet_dataset.append(row[0])\n",
        "\n",
        "# analyze the sentiment of each tweet\n",
        "scores = []\n",
        "for tweet in tweet_dataset:\n",
        "    score = sia.polarity_scores(tweet)\n",
        "    if score[\"compound\"] > 0.5:\n",
        "        scores.append(1)  # positive\n",
        "    elif score[\"compound\"] < -0.5:\n",
        "        scores.append(-1)  # negative\n",
        "    else:\n",
        "        scores.append(0.1)  # neutral\n",
        "\n",
        "# plot the histogram\n",
        "plt.hist(scores, bins=[-1.5, -0.5, 0.5, 1.5])\n",
        "plt.title(\"Sentiment of Tweets\")\n",
        "plt.xlabel(\"Sentiment Positive ->\")\n",
        "plt.ylabel(\"Frequency\")\n",
        "plt.show()\n"
      ],
      "metadata": {
        "colab": {
          "base_uri": "https://localhost:8080/",
          "height": 330
        },
        "id": "BKMZmExEH7Ke",
        "outputId": "f61d8332-3b7f-4e14-af5b-10a53cafb3be"
      },
      "execution_count": null,
      "outputs": [
        {
          "output_type": "stream",
          "name": "stderr",
          "text": [
            "[nltk_data] Downloading package vader_lexicon to /root/nltk_data...\n",
            "[nltk_data]   Package vader_lexicon is already up-to-date!\n"
          ]
        },
        {
          "output_type": "display_data",
          "data": {
            "text/plain": [
              "<Figure size 432x288 with 1 Axes>"
            ],
            "image/png": "[encoded data removed]"
          },
          "metadata": {
            "needs_background": "light"
          }
        }
      ]
    },
    {
      "cell_type": "markdown",
      "source": [
        "################################################################\n",
        "\n",
        "Part 2 - Compairing Text \n",
        "\n",
        "################################################################"
      ],
      "metadata": {
        "id": "IDhINbB9ISuI"
      }
    },
    {
      "cell_type": "code",
      "source": [
        "import nltk"
      ],
      "metadata": {
        "id": "u5zj270YH7Gd"
      },
      "execution_count": null,
      "outputs": []
    },
    {
      "cell_type": "code",
      "source": [
        "nltk.download('vader_lexicon')"
      ],
      "metadata": {
        "colab": {
          "base_uri": "https://localhost:8080/"
        },
        "id": "qwkDBdsqH7C3",
        "outputId": "41356c98-2296-4bba-d0b6-7ec0a8645e8f"
      },
      "execution_count": null,
      "outputs": [
        {
          "output_type": "stream",
          "name": "stderr",
          "text": [
            "[nltk_data] Downloading package vader_lexicon to /root/nltk_data...\n",
            "[nltk_data]   Package vader_lexicon is already up-to-date!\n"
          ]
        },
        {
          "output_type": "execute_result",
          "data": {
            "text/plain": [
              "True"
            ]
          },
          "metadata": {},
          "execution_count": 24
        }
      ]
    },
    {
      "cell_type": "code",
      "source": [
        "import tkinter as tk"
      ],
      "metadata": {
        "id": "nsOyzbB2H7Ak"
      },
      "execution_count": null,
      "outputs": []
    },
    {
      "cell_type": "code",
      "source": [
        "nltk.download('stopwords')"
      ],
      "metadata": {
        "colab": {
          "base_uri": "https://localhost:8080/"
        },
        "id": "81JkQo2dQwFI",
        "outputId": "54f2ec27-48a8-4090-c72d-01ea33cf671f"
      },
      "execution_count": null,
      "outputs": [
        {
          "output_type": "stream",
          "name": "stderr",
          "text": [
            "[nltk_data] Downloading package stopwords to /root/nltk_data...\n",
            "[nltk_data]   Package stopwords is already up-to-date!\n"
          ]
        },
        {
          "output_type": "execute_result",
          "data": {
            "text/plain": [
              "True"
            ]
          },
          "metadata": {},
          "execution_count": 26
        }
      ]
    },
    {
      "cell_type": "code",
      "source": [
        "#Successfully Compaired\n",
        "\n",
        "import nltk\n",
        "from nltk.corpus import stopwords\n",
        "\n",
        "# Open the predefined text file and read its contents\n",
        "with open(\"answer1.txt\", \"r\") as f:\n",
        "    predefined_text = f.read()\n",
        "\n",
        "# Prompt the user for the text to compare\n",
        "user_text = input(\"Enter the text to compare: \")\n",
        "\n",
        "# Split the predefined text and the user text into lists of words\n",
        "predefined_words = predefined_text.split()\n",
        "user_words = user_text.split()\n",
        "\n",
        "# Get a list of English stopwords\n",
        "stop_words = set(stopwords.words('english'))\n",
        "\n",
        "# Initialize the score to 0\n",
        "score = 0\n",
        "\n",
        "# Initialize a list to store the matching words\n",
        "matching_words = []\n",
        "\n",
        "# Iterate through the words in the user text\n",
        "for word in user_words:\n",
        "    # If the word is in the predefined text and is not a stopword, increase the score by 1 and add the word to the list of matching words\n",
        "    if word in predefined_words and word not in stop_words:\n",
        "        score += 1.5\n",
        "        matching_words.append(word)\n",
        "\n",
        "# Calculate the percentage of similarity\n",
        "percentage = round((score / len(predefined_words)) * 100,2)\n",
        "\n",
        "# Print the percentage of similarity\n",
        "print(\"The percentage of similarity is:\", percentage)\n",
        "\n",
        "# Print the matching words\n",
        "for row in matching_words :\n",
        "    for element in row:\n",
        "        print(element, end='')\n",
        "    print()\n",
        "#print(\"The matching words are:\", matching_words)\n"
      ],
      "metadata": {
        "colab": {
          "base_uri": "https://localhost:8080/"
        },
        "id": "VNeYv4u4H6xY",
        "outputId": "b3345b04-557c-4788-eea2-5e0275636147"
      },
      "execution_count": null,
      "outputs": [
        {
          "output_type": "stream",
          "name": "stdout",
          "text": [
            "Enter the text to compare: artificial intelligence (AI), the ability of a digital computer or computer-controlled robot to perform tasks commonly associated with intelligent beings.\n",
            "The percentage of similarity is: 39.62\n",
            "artificial\n",
            "intelligence\n",
            "(AI),\n",
            "ability\n",
            "digital\n",
            "computer\n",
            "computer-controlled\n",
            "robot\n",
            "perform\n",
            "tasks\n",
            "commonly\n",
            "associated\n",
            "intelligent\n",
            "beings.\n"
          ]
        }
      ]
    }
  ]
}